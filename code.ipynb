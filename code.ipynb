# 📦 Install dependencies (run once at top of your notebook)
!pip install -q openai-whisper language-tool-python gradio

# 🧠 Imports
import whisper
import language_tool_python
import gradio as gr

# 🚀 Load models once
whisper_model = whisper.load_model("base")
grammar_tool = language_tool_python.LanguageTool('en-US')

# 🔁 Core logic: Transcribe and score grammar
def transcribe_and_score(audio_path):
    result = whisper_model.transcribe(audio_path)
    text = result["text"]

    matches = grammar_tool.check(text)
    issues = len(matches)
    words = len(text.split())
    score = max(0, 100 - (issues / words) * 100) if words else 0

    suggestions = "\n".join(
        [f"Issue: {m.ruleIssueType} | Message: {m.message}" for m in matches[:5]]
    ) or "✅ No grammar issues detected."

    return text, f"{score:.2f}/100", suggestions

# 🌐 Gradio UI
demo = gr.Interface(
    fn=transcribe_and_score,
    inputs=gr.Audio(type="filepath", label="🎤 Upload Audio (WAV, MP3, OPUS)"),
    outputs=[
        gr.Textbox(label="📝 Transcription"),
        gr.Textbox(label="📊 Grammar Score"),
        gr.Textbox(label="💡 Suggestions"),
    ],
    title="🎙️ Voice Grammar Scoring App",
    description="Upload a voice sample. The app transcribes it and evaluates grammar using Whisper + LanguageTool.",
    allow_flagging="never"
)

# ▶️ Launch the app
demo.launch()
